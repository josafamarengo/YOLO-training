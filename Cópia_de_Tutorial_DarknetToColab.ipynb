{
  "nbformat": 4,
  "nbformat_minor": 0,
  "metadata": {
    "colab": {
      "provenance": [],
      "private_outputs": true,
      "include_colab_link": true
    },
    "kernelspec": {
      "name": "python3",
      "display_name": "Python 3"
    },
    "accelerator": "GPU"
  },
  "cells": [
    {
      "cell_type": "markdown",
      "metadata": {
        "id": "view-in-github",
        "colab_type": "text"
      },
      "source": [
        "<a href=\"https://colab.research.google.com/github/josafamarengo/YOLO-training/blob/main/C%C3%B3pia_de_Tutorial_DarknetToColab.ipynb\" target=\"_parent\"><img src=\"https://colab.research.google.com/assets/colab-badge.svg\" alt=\"Open In Colab\"/></a>"
      ]
    },
    {
      "cell_type": "code",
      "metadata": {
        "id": "LJZRcEw0LoBd"
      },
      "source": [
        "# This cell imports the drive library and mounts your Google Drive as a VM local drive. You can access to your Drive files \n",
        "# using this path \"/content/gdrive/My Drive/\"\n",
        "\n",
        "from google.colab import drive\n",
        "drive.mount('/content/gdrive')"
      ],
      "execution_count": null,
      "outputs": []
    },
    {
      "cell_type": "code",
      "metadata": {
        "id": "DrdyBxyZvLpM"
      },
      "source": [
        "# Not Necessary cell\n",
        "# List the content of your local computer folder \n",
        "!ls -la \"/content/gdrive/My Drive/darknet\""
      ],
      "execution_count": null,
      "outputs": []
    },
    {
      "cell_type": "code",
      "metadata": {
        "id": "sGNcZ9EtOK7k"
      },
      "source": [
        "!sudo apt-get install tree"
      ],
      "execution_count": null,
      "outputs": []
    },
    {
      "cell_type": "code",
      "metadata": {
        "id": "ZGsRuXM-OQBb"
      },
      "source": [
        "!tree /content/gdrive/My\\ Drive/darknet/"
      ],
      "execution_count": null,
      "outputs": []
    },
    {
      "cell_type": "code",
      "metadata": {
        "id": "ew5eGbl9MdKL"
      },
      "source": [
        "# This cell can be commented once you checked the current CUDA version\n",
        "# CUDA: Let's check that Nvidia CUDA is already pre-installed and which version is it. In some time from now maybe you \n",
        "!/usr/local/cuda/bin/nvcc --version\n"
      ],
      "execution_count": null,
      "outputs": []
    },
    {
      "cell_type": "code",
      "metadata": {
        "id": "r_A8LDvyM7x5"
      },
      "source": [
        "# We're unzipping the cuDNN files from your Drive folder directly to the VM CUDA folders\n",
        "!tar -xzvf gdrive/My\\ Drive/darknet/cuDNN/cudnn-10.0-linux-x64-v7.5.0.56.tgz -C /usr/local/\n",
        "!chmod a+r /usr/local/cuda/include/cudnn.h\n",
        "\n",
        "# Now we check the version we already installed. Can comment this line on future runs\n",
        "!cat /usr/local/cuda/include/cudnn.h | grep CUDNN_MAJOR -A 2"
      ],
      "execution_count": null,
      "outputs": []
    },
    {
      "cell_type": "code",
      "metadata": {
        "id": "Pt0Y06QTNyZG"
      },
      "source": [
        "# Leave this code uncommented on the very first run of your notebook or if you ever need to recompile darknet again.\n",
        "# Comment this code on the future runs.\n",
        "#!git clone https://github.com/kriyeng/darknet/\n",
        "#%cd darknet\n",
        "\n",
        "# Check the folder\n",
        "#!ls\n",
        "\n",
        "# I have a branch where I have done the changes commented above\n",
        "#!git checkout feature/google-colab\n",
        "\n",
        "#Compile Darknet\n",
        "#!make\n",
        "\n",
        "#Copies the Darknet compiled version to Google drive\n",
        "#!cp ./darknet /content/gdrive/My\\ Drive/darknet/bin/darknet"
      ],
      "execution_count": null,
      "outputs": []
    },
    {
      "cell_type": "code",
      "metadata": {
        "id": "jAN2TNZ007c_"
      },
      "source": [
        "# Uncomment after the first run, when you have a copy of compiled darkent in your Google Drive\n",
        "\n",
        "# Makes a dir for darknet and move there\n",
        "# !mkdir darknet\n",
        "# %cd darknet\n",
        "\n",
        "# Copy the Darkent compiled version to the VM local drive\n",
        "#!cp /content/gdrive/My\\ Drive/darknet/bin/darknet ./darknet\n",
        "\n",
        "# Set execution permissions to Darknet\n",
        "# !chmod +x ./darknet\n"
      ],
      "execution_count": null,
      "outputs": []
    },
    {
      "cell_type": "code",
      "metadata": {
        "id": "WD5FBWmjrsks"
      },
      "source": [
        "#download files\n",
        "def imShow(path):\n",
        "  import cv2\n",
        "  import matplotlib.pyplot as plt\n",
        "  %matplotlib inline\n",
        "\n",
        "  image = cv2.imread(path)\n",
        "  height, width = image.shape[:2]\n",
        "  resized_image = cv2.resize(image,(3*width, 3*height), interpolation = cv2.INTER_CUBIC)\n",
        "\n",
        "  fig = plt.gcf()\n",
        "  fig.set_size_inches(18, 10)\n",
        "  plt.axis(\"off\")\n",
        "  #plt.rcParams['figure.figsize'] = [10, 5]\n",
        "  plt.imshow(cv2.cvtColor(resized_image, cv2.COLOR_BGR2RGB))\n",
        "  plt.show()\n",
        "  \n",
        "  \n",
        "def upload():\n",
        "  from google.colab import files\n",
        "  uploaded = files.upload() \n",
        "  for name, data in uploaded.items():\n",
        "    with open(name, 'wb') as f:\n",
        "      f.write(data)\n",
        "      print ('saved file', name)\n",
        "def download(path):\n",
        "  from google.colab import files\n",
        "  files.download(path)"
      ],
      "execution_count": null,
      "outputs": []
    },
    {
      "cell_type": "code",
      "metadata": {
        "id": "eCou8imNOTTN"
      },
      "source": [
        "# Not necessary cell\n",
        "# Get yolov3 weights\n",
        "!wget https://pjreddie.com/media/files/yolov3.weights"
      ],
      "execution_count": null,
      "outputs": []
    },
    {
      "cell_type": "code",
      "metadata": {
        "id": "KQjODqIAS-er"
      },
      "source": [
        "# don't go beyond here with Run All\n",
        "#assert False"
      ],
      "execution_count": null,
      "outputs": []
    },
    {
      "cell_type": "code",
      "metadata": {
        "id": "WewV3jU3B4Eo"
      },
      "source": [
        "# Copy fils from Google Drive to the VM local filesystem\n",
        "!cp -r \"/content/gdrive/My Drive/darknet/img\" ./img\n"
      ],
      "execution_count": null,
      "outputs": []
    },
    {
      "cell_type": "code",
      "metadata": {
        "id": "vjnV7SDOGpdN"
      },
      "source": [
        "# Copy your compressed file\n",
        "#!cp -r \"/content/gdrive/My Drive/darknet/img/img.tgz\" ./img\n",
        "\n",
        "# Uncompress zipped file\n",
        "#!tar -xzvf ./img/img.tgz"
      ],
      "execution_count": null,
      "outputs": []
    },
    {
      "cell_type": "code",
      "metadata": {
        "id": "3Pa1Z9cxC290"
      },
      "source": [
        "# Git clone directly to ./img folder\n",
        "#!git clone https://[your-repository] ./img\n",
        "\n",
        "# Check the result - Uncomment when you checked for speed up further runs\n",
        "#!ls -la ./img"
      ],
      "execution_count": null,
      "outputs": []
    },
    {
      "cell_type": "code",
      "metadata": {
        "id": "13fRzkiQiPhW"
      },
      "source": [
        "!./darknet detector train \"/content/gdrive/My Drive/darknet/obj.data\" \"/content/gdrive/My Drive/darknet/yolov3.cfg\" \"/content/gdrive/My Drive/darknet/darknet53.conv.74\" -dont_show "
      ],
      "execution_count": null,
      "outputs": []
    },
    {
      "cell_type": "code",
      "metadata": {
        "id": "josdFFdVMyj3"
      },
      "source": [
        "# Start training at the point where the last runtime finished\n",
        "!./darknet detector train \"/content/gdrive/My Drive/darknet/obj.data\" \"/content/gdrive/My Drive/darknet/yolov3.cfg\" \"/content/gdrive/My Drive/darknet/weights/yolov_last.weights\" -dont_show "
      ],
      "execution_count": null,
      "outputs": []
    }
  ]
}